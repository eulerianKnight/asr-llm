{
 "cells": [
  {
   "cell_type": "code",
   "execution_count": 1,
   "id": "5514688c-79a4-4e0a-9edd-fa154a753b3f",
   "metadata": {},
   "outputs": [],
   "source": [
    "import torch\n",
    "from transformers import AutoModelForSpeechSeq2Seq, AutoProcessor, pipeline"
   ]
  },
  {
   "cell_type": "code",
   "execution_count": 2,
   "id": "2e7fc327-9b4b-477c-913e-bfce68ac9f47",
   "metadata": {},
   "outputs": [
    {
     "data": {
      "text/plain": [
       "('cuda', torch.float32)"
      ]
     },
     "execution_count": 2,
     "metadata": {},
     "output_type": "execute_result"
    }
   ],
   "source": [
    "has_mps = torch.backends.mps.is_available()\n",
    "has_cuda = torch.cuda.is_available()\n",
    "device = \"mps\" if has_mps else \"cuda\" if has_cuda else \"cpu\"\n",
    "torch_dtype = torch.float16 if has_mps else torch.float32\n",
    "device, torch_dtype"
   ]
  },
  {
   "cell_type": "code",
   "execution_count": 3,
   "id": "e1b9018e-59d9-43b7-bbed-0058f8e3ad6d",
   "metadata": {},
   "outputs": [],
   "source": [
    "# Initialize Pipeline\n",
    "model_id = \"openai/whisper-large-v3\"\n",
    "\n",
    "hf_model = AutoModelForSpeechSeq2Seq.from_pretrained(\n",
    "    model_id, \n",
    "    torch_dtype=torch_dtype,\n",
    "    low_cpu_mem_usage=True,\n",
    "    use_safetensors=True, \n",
    "    cache_dir=\"whisper/models\"\n",
    ").to(device)\n",
    "\n",
    "processor = AutoProcessor.from_pretrained(model_id)\n",
    "\n",
    "pipe = pipeline(\n",
    "    task=\"automatic-speech-recognition\", \n",
    "    model=hf_model, \n",
    "    tokenizer=processor.tokenizer,\n",
    "    feature_extractor=processor.feature_extractor,\n",
    "    max_new_tokens=128, \n",
    "    chunk_length_s=64, \n",
    "    batch_size=24,\n",
    "    return_timestamps=True, \n",
    "    torch_dtype=torch_dtype, \n",
    "    device=device, \n",
    "    ignore_warning=True\n",
    ")"
   ]
  },
  {
   "cell_type": "code",
   "execution_count": 4,
   "id": "69d20d8f-f627-4ca0-8a03-dea821bcd208",
   "metadata": {},
   "outputs": [
    {
     "name": "stdout",
     "output_type": "stream",
     "text": [
      "Length of this audio: 58.48 minutes\n"
     ]
    },
    {
     "data": {
      "text/plain": [
       "175.4285"
      ]
     },
     "execution_count": 4,
     "metadata": {},
     "output_type": "execute_result"
    }
   ],
   "source": [
    "from pydub import AudioSegment\n",
    "\n",
    "audio_file = \"The Nature of Space and Time ｜ Brian Greene.mp3\"\n",
    "sound = AudioSegment.from_file(audio_file)\n",
    "print(f\"Length of this audio: {round(len(sound)/1000/60, 2)} minutes\")\n",
    "\n",
    "expected_tran_time = len(sound)/1000/20\n",
    "expected_tran_time"
   ]
  },
  {
   "cell_type": "code",
   "execution_count": 5,
   "id": "efde65b4-b3f0-4b86-9b7f-d11c3a7f7b08",
   "metadata": {},
   "outputs": [
    {
     "name": "stderr",
     "output_type": "stream",
     "text": [
      "/home/zeus/miniconda3/envs/cloudspace/lib/python3.10/site-packages/transformers/models/whisper/generation_whisper.py:483: FutureWarning: The input name `inputs` is deprecated. Please make sure to use `input_features` instead.\n",
      "  warnings.warn(\n",
      "You have passed language=English, but also have set `forced_decoder_ids` to [[1, None], [2, 50360]] which creates a conflict. `forced_decoder_ids` will be ignored in favor of language=English.\n",
      "The attention mask is not set and cannot be inferred from input because pad token is same as eos token.As a consequence, you may observe unexpected behavior. Please pass your input's `attention_mask` to obtain reliable results.\n"
     ]
    },
    {
     "name": "stdout",
     "output_type": "stream",
     "text": [
      "CPU times: user 1min 13s, sys: 847 ms, total: 1min 14s\n",
      "Wall time: 1min 15s\n"
     ]
    }
   ],
   "source": [
    "%%time\n",
    "def transcribe():\n",
    "    result = pipe(\n",
    "        audio_file, \n",
    "        generate_kwargs={\"language\": \"English\"}, \n",
    "        return_timestamps=True\n",
    "    )\n",
    "    return result\n",
    "\n",
    "result = transcribe()\n",
    "\n",
    "del hf_model\n",
    "del processor\n",
    "del pipe\n",
    "torch.cuda.empty_cache()"
   ]
  },
  {
   "cell_type": "code",
   "execution_count": 6,
   "id": "a9764582-2a06-4872-bfb8-c8277b7e0ab8",
   "metadata": {},
   "outputs": [
    {
     "data": {
      "text/plain": [
       "\" So, thank you. It's a great pleasure to join you at this gathering. And I'm going to focus my attention on an area of physics that I think fits in well with the themes that you have been hearing about in other arenas, other areas. Because I'm going to be talking about the science of black holes. and observationally supported, but in the next age can migrate to canonical form, to everything that everybody always thought was true, everything everybody thought was right. So in a way, if I was going to give one takeaway message, if I can use that unfortunate language for what I'll be talking about here today, to be true and the things that you do not consider to be true, you can inadvertently cut out a whole collection of ideas that you simply at that moment in time don't have the intellectual architecture to judge. And that certainly is the case with the science of black holes. Now, I recognize that people come to to give everybody a little bit of something, I'm going to start fairly basic. And then as I get toward the end of the talk, I will be taking on things that are right now at the cutting edge. And as Barry just mentioned to me, since this is the last talk, don't yet know if they are right or wrong. deeply in a quantitative way about the force of gravity is Isaac Newton and If you cast your minds way back to the late 1600s again a very different era than the one that we experience a time in fact when The Black Death was waging a winning war against humanity and to escape the scourge Newton retreats to his family's back to the University of Cambridge he would throw into dazzling relief a fundamental fact a fundamental law about how the universe works and that of course is the law of gravity the universal law of gravity it's a law that we still teach to kids around the world you all know it f equals Sun a planet like the earth and using that little bit of mathematics we can make predictions for where the planet should be at any given moment and the wonderful thing is you look up into the night sky and the planets are just where the mathematics says that they should be so this was one of those astonishing's not the end of a story, right? That's the beginning of a story because now you can take an idea which was previously only understood in a qualitative sense, and now you can put quantitative power, mathematical rigor behind those phenomenon, and in that way, try to go further. of escape velocity. So once you understand gravity, you can ask yourself the question, if you say you have a planet, let's focus on planet Earth, and you have a cannon, you can ask yourself what happens if you fire the cannon, say, in a vertical direction. Now, of course, if you just give the cannonball a little bit of a kick, we all know what happens. It goes up, comes down. In fact, using Newton's laws, you give that ball enough of a kick and it won't come down. It will escape the gravitational pull of the earth. And in fact using that equation on the t-shirt you can calculate the speed that you need to give the cannonball in order that it will not come down. And the answer is? That's right the answer is? second row there good all right so that's absolutely true but now an interesting theoretical question comes to mind which is this that number depends upon the size of the earth so the question people ask was well like what if you make the earth bigger right a bigger planet and you want again to cause a cannonball to escape well you need a more powerful cannon if the planet is larger and again using Newton's laws you can calculate kick it with a sufficient speed and it will depend upon the units that you like to use. Some wise person will say, well, it's one in the appropriate units. But, you know, which is true. 186,000 miles per second, 671 million miles per hour, 300 million meters per hour, whatever unit you like, there is a speed of light, right? And that is a number. way back when what would happen if you had say a star which if you think about it a star is nothing but a sequence of light cannons all around the surface of the body that are firing balls of light outward and the question is if you have a star and you imagine it getting ever more massive then the escape velocity will go up and up and at some point A body whose gravitational pull is so powerful that light cannot escape. Now here's the thing. This analysis that was done by Mitchell way back 1700s using Newton's laws of gravity, but Newton himself knew that his understanding of gravity was incomplete. that gives you the strength of the gravitational pull of a massive body, he was unable to answer the question of how gravity actually exerts its influence. If you have the sun here and you have the earth here, you've basically got empty space between them. And Newton wondered and he pondered and he couldn't figure out how it could be that one body over here could affect another body over here without any mutual contact. Newton asked himself and indeed in his Principia He writes that the answer to that important question how gravity exerts its influence. He said I leave that to the consideration of the reader All right, he knew it was an open problem he couldn't figure out and said you figure it out right and Nobody could figure it out, right? Most people didn't even think about it until look at the most basic of questions and just see them differently. So starting in about 1907, Einstein focuses his attention on trying to figure out how the force of gravity works. And others at the time, some of the most respected, ruin your career if you focus on a problem of that nature and These were the kinds of people whose advice you should trust right these were the individuals That had transformed our understanding of the world in an earlier Era an earlier generation and yet the whole power of science is that you can have new thinkers come along and about eight ten years later he comes up with what he believes to be the answer for how gravity works I think many of you are familiar with the idea for those that aren't let me just say it in metaphor first and I'll show you a little visual on it Einstein basically says look if the puzzle is you got the Sun here you got the earth here and there's only empty space between them right so how could they be influencing each other he says part of the dynamical unfolding and that's a startling idea and yet it's the one that he pursues and ultimately turns it into a rigorous mathematical formulation so the metaphorical version goes like this forget about gravity in the universe for a moment a little complicated instead think about a rubber sheet that stretched nice and taut between us right here imagine I take a marble and I set it rolling on the you can picture it doesn't go in the same straight line trajectory any longer. Now, instead, the marble goes in a curved trajectory because it's rolling on the curved surface of the rubber sheet. That's the basic idea, but now we take it over to the universe. Instead of a rubber sheet, space. Instead of a bowling ball, think of any astronomical object, and the idea is merely by virtue of version that will capture all the ideas. So as you see, space is flat when there's nothing there, but if we bring in a massive body like the sun, the fabric curves. And the earth too, it also curves the environment around it. And now focus your attention on the moon, because this is the point. The moon is kept in orbit because it's not just pictures, animation, there's mathematics behind this, right? Slightly more complicated mathematics than Newton's formula that we teach to high school kids but there you see it again fits nicely with the right font size on a t-shirt. And that mathematics allows you to make predictions. here when the earth is on that side of the Sun compared to six months later when the earth is on the other side of the Sun and that light has to go through the curved region near the Sun and his mathematics predicts the angle between the straight trajectory six months earlier and the curved trajectory six months later and that prediction is ultimately borne out through of the eclipse observations, Einstein theory triumph, stars not where they seemed or were calculated to be, but nobody need worry. On September 22nd, 1919, Einstein gets a telegram alerting him to the success of the observations. He's with a student at the time, Elise Schneider, and she says to him, Professor Einstein, So with that great success, again, people notice. People pay attention. And one particular mathematician, scientist named Karl Schwarzschild, who at the time was actually stationed at the Russian front during World War I, he starts to think about Einstein's ideas and comes to sort of an amazing conclusion. him, fortuitously for us, Einstein's manuscript just happens to float out of space, drops into his hand, a hand I should say for you skeptics that looks just like my hand for whatever reason, but he starts to calculate with Einstein's manuscript and he realizes that if you have a spherical body and you crush it down to a sufficiently small size, the warp in the fabric we see it reappearing in Schwarzschild's analysis using Einstein's more refined version of gravity. So once again we have the possibility here of an object that will not allow light to escape and therefore is black, a black hole. So in the Einsteinian description What would an object like this actually look like out there in space? Well since it's black it would be hard to see but objects are always in an environment and that environment often has gas and dust particles. So this is what it would look like. Something like this. You have dust and gas swirling When Einstein learned about these black hole solutions to his equations, to his theory of gravity, he actually did not believe it. And it took me a while to find what I consider to be a nice skeptical expression, if you'd need to exert on a spherical body to create a black hole, the numbers seem absurd, right? So to turn the sun into a black hole, you'd have to squeeze the entire sun to a couple kilometers across. just 15 minutes ago, Ray, is that correct? Yes, in the front row here, completely independently showed up with an engineered sphere whose size is exactly what it would need to be to turn the Earth into a black hole. Not quite as heavy. But nevertheless, it gets the size right. So thank you for the prop. did not warm to this idea. But thankfully, when Einstein frowned on this idea, people didn't give up, right? It's not as though you look at the master of an earlier age who had seen much further than anybody else and somehow you accord them some kind of extra right to truth, right? planet to a fantastically small size. And that mechanism goes like this. So imagine you have a large star, say a red giant. This star supports its own enormous weight by nuclear processes that happen deep in the core that generate an outward pressure. Now, sooner or later, every star will use up its nuclear fuel. And when that happens, you don't have an outward push any longer, so the layers of the star and when it gets to the star's surface it blows off the surface and of course what we call the supernova explosion and what remains can no longer support its weight at all and therefore just collapses right down to an arbitrarily small size collapses into at least That's good, but it's still not actual observational evidence. And the first evidence came from studying our own Milky Way galaxy. The center of our Milky Way galaxy we believe there is a black hole, and you can begin to see why as you look at the trajectories of stars that get whipped around the mass of the sun. So the case began to be made that these objects are actually real, however much Einstein thought they would not be. But the clincher for the case for black holes per se. They were on the possibility of gravitational waves right the basic idea that's being expressed in these mathematical equations is that if Space is like a rubber sheet right before I put a bowling ball on it But now let me leave the sheet nice and flat here instead Imagine I go up to the sheet and I start tapping its surface you all know what will happen about space and time as a dynamical entity, then as objects move through the environment they should in essence tap the rubber sheet, send out ripples in the fabric of space, send out gravitational waves. Now Einstein himself had a fairly curious relationship with this insight because over the years he became quite theory is so subtle that sometimes even Einstein couldn't quite figure it all out. That's sort of a weird thought, right? You know, Einstein, the equations in the general theory of relativity, they are called the Einstein field equations. And yet, in analyzing those equations, there were issues that Einstein himself had trouble fully coming to terms with. And what qualities of the mathematical equation should describe something actually out there in the world and by that point by the 1960s? It became perfectly clear that if you did have for instance Two neutron stars or even black holes that were orbiting each other in space They would disturb the fabric of space and send out These ripples now, calculation, you find that for a typical astrophysical event, the amount by which Earth would be stretched and changes is a fraction of an atomic diameter and again, the beauty of the progression of scientific ideas is that sure you Can be deeply skeptical that you'd ever be able to measure anything like that out there and two machines were built in the United States one in Washington State one in Louisiana and as you can see here each of these machines involves two arms basically two tunnels at right angles to each other so if I match the orientation on the screen something like this and the idea is that light beams are sent down these two tunnels they bounce off of mirrors and they come back and when the light recombines the pattern that arises when the tunnel, races along, hits a mirror at the far end and comes back. This is happening in both of those tunnels simultaneously. And the way the light comes back and crosses itself at the center is highly sensitive to the lengths of the two arms, the two tunnels. And that means that if a gravitational wave were to roll by two wave trains along the two tunnels cross. So this idea was put forward in the in the 1960s as a means of possibly detecting these ripples in the fabric of space and thankfully the National Science Foundation decided to fund the actual building of the devices that I showed you there and at first for many was just impossible, right? And yet they stayed at it. And amazingly on September 14th this signal, September of 15, the announcement of a discovery was in February of 16, because during those months, these researchers were desperately trying to prove that this wasn't a real signal, right? possibility was the team of researchers had put in place a mechanism by which test signals were put into the device to see if everybody was awake and would capture the signal if it was actually there you know you put in a test signal and you come in the next day you say to the graduate student so anything interesting happened last night no no nothing nothing at all and that's the it wasn't me you go to the second one did you do it no and they go down the line everybody says I didn't do it start to think maybe maybe it's real and they beat on it and they beat on it and they eliminate all other potential explanations and come to the conclusion that it is real and in fact they don't just come to the conclusion that the signal ultimately is this and this is where it ties into our theme here the explanation is that 1.3 billion years ago two black holes were orbiting each other 1.3 billion light years away now this is a time when there are you know A tidal wave in the fabric of space whose energy output is 50 times the energy output of every single star in every single galaxy in the observable universe. You put all that together and it doesn't even match the power of that tidal wave in the fabric of space. Now that tidal wave in the fabric of space is very far away. It starts to spread out in all directions at the speed of light. So part of it is racing toward planet Earth. Again, nothing happening approaches planet Earth, when it is 100 light years away, about 100 years ago, an individual named Albert Einstein starts to think about the possibility there might be these ripples in the fabric of space, completely unaware that a big one is already racing toward planet Earth, and does these calculations that I've described. Nobody really thinks that you can detect them, light days away. They turn on the newly revamped version of that experiment and two days later that wave washes by planet Earth and gives rise to that signal. Now if that progression doesn't fill you with awe and reverence for what the human brain is capable ultimately to a confirmation that two black holes collided with each other some time ago. But it's still not the most direct evidence. Even more direct evidence would come from taking a to, in essence, take a radio photograph of a black hole. And I think as many of you saw, this image was released some months ago, last spring. The first direct image of a black hole. Now, a lot of media interest focused on this photograph, rightfully so. photo of a black...it's very hard to please you know some people. You know it's only eight radio telescopes so it's in some sense you know limited in its pixels. People will do better. But the amazing thing to me is literally one week after this photograph was released a far sharper image of a black hole was in fact released and that of course So this is the culmination of a long journey, but again it's not the end of a journey. We now know that these things are real, but now we need to deeply understand them. And so what I'll do in the remaining three hours is... Don't worry, I'll be gentle. We're reaching the end. In the remaining time, I'm just going tell you is true, of course, but it does suggest that it's worthy of detailed scrutiny because the sequence of ideas that we have been following has yielded, ultimately, evidence and data confirming ideas that many of the smartest people on the planet and I take out my wallet and I throw my wallet into the black hole. It reaches the edge, the event horizon as we call it, and it goes over. Now, according to Einstein's equations, when an object falls over the edge of a black hole, it is gone, right? Nothing can get out of a black hole. The gravity is too strong. And therefore, once it goes wallet in particular, it's got obvious information. Credit card numbers, photographs, things of that sort. But there's also information in how the molecules and atoms of my wallet are arranged to create that physical structure. And if an object falls over the edge of a black hole and is permanently gone, that means the of how the world progresses will radically change. Now Stephen Hawking believed for a very long time that information would be lost just as Mulvaney said, get over it, right? That was the approach that Stephen Hawking took. Many other physicists did not believe that that was the right edge of the black hole. That can be sort of stored as bits, zeros and ones schematically drawn here. So much so, the idea would go, that if you recover that information, because it's on the outside of the black hole after all, you could use it to reconstruct any object that went inside. Now object that filled in the wallet, so much so that you could actually rebuild the object if you wanted to. Now that notion, that you can have a three-dimensional object within an environment that's fully described by data on a thin two-dimensional surface that surrounds it, should ring a bell. And that bell is holograms. So what is a hologram? of a black hole fully articulated by data on this thin two-dimensional surface that surrounds us. So this gives rise to what's known as the holographic principle. The idea that there's a dual description of the world. You've got the ordinary description that we're familiar with, three-dimensional solid objects, but there's an alternative description using data on a two-dimensional surface that surrounds those objects. They're basically the same thing. Space is space. So if the wallet inside the black hole can be described by data on a surface that surrounds it, maybe that's true absolutely everywhere. Maybe every three-dimensional object, regardless of where it is, has a dual alternative description as a hologram, data stored on a two-dimensional surface that surrounds it. So an image that you might have would be this. I don't know if you can see it. Hopefully you can back there. I can't see it up here. but stored on a two-dimensional surface. So this notion that emerges from these ideas suggests that you and I and everything else, we are just the holographic projection of data that lives on a distant, thin, two-dimensional surface, perhaps at the boundary of the observable universe, not illuminated by a laser with a real hologram, but rather illuminated by the laws of physics. it's where this sequence of ideas has taken us. Now, whether it's right or wrong will have to be ultimately determined by future experiments, future observations. But to me, it's utterly remarkable how simply by sort of following the dots, starting with Einstein and the development of his equations, we come to a picture of the world that does sound absurd. another crazy idea. All right. All right. So I'll go through it relatively quickly as time is short. And the ideas are a little bit tricky. So to fully explain them would take a long time. So I'm now going to cater a little bit more to those who have some familiarity with some of these concepts. But the final thing I'll tell you about is this. quantum entanglement. How many people are familiar with that idea? A lot of you? So that's the idea that you can have two distant objects that somehow behave as though they're connected by invisible quantum threads. A very strange idea. Again one that Einstein resisted. His paper was basically trying to say look how crazy it is that quantum mechanics is suggesting this possibility but yet we now believe that it's not just crazy it's right. Second paper that Einstein Everybody's encountered that idea. If you watch Deep Space Nine or any number of science fiction films have the notion of wormholes, which are tunnels that connect two distant regions of space. Einstein did not think that these two papers had anything to do with each other, completely different ideas, and yet in the last few years we've come to think that those two 1935 papers may be deeply idea, this idea of wormholes, just to give you a picture to have in mind, imagine you've got two distant regions that create a kind of tunnel between them, a kind of shortcut between one region of space and another. So that's the paper, I think I said June, actually I think it's July of 1935, that Einstein comes up with this idea, solves the equations of general relativity and shows that you to describe what I want to tell you about I've got to be a little bit more precise certainly on the entanglement an idea and to do that I'm going to use the canonical example that everybody talks about with entanglement which has to do with spin particles in the world elementary particles all spin around like little tops amazingly they can only spin in one of two directions clockwise or counterclockwise and if it's measure the particle does it kind of snap out of the haze and spin up or snap out of the haze and spin down that's the weirdness of quantum physics now I want you to take this idea with me one step further because what Einstein was imagining is two particles each of which is spinning up and down simultaneously you separate them very far apart and according to his calculations if you measure one there. And that was his argument. The world can't be spooky and therefore quantum mechanics cannot be a full theory of the world. But the reality of it is this kind of effect is now observed all the time. So you have two distant particles, say one in Las Vegas, the other in New York. I go over to the one in Las Vegas, I measure it and the one in New York is forced out of the quantum haze at the same moment. A very, very strange So imagine I focus in on a black hole. And that black hole, say, could be floating in space. And as I mentioned before, this holographic idea tells us that this black hole has an alternative description in terms of a thin sphere that surrounds it, basically at the event horizon. So in order to show that, I'm going to go down to sort of a two-dimensional version that's easier for us to see. holes. Each is described in this holographic language as a surface that surrounds it. And imagine further that we take Einstein's idea of quantum entanglement and we entangle those two outer surfaces. What would that entail for the geometry of the interior region? And here is the beautiful insight. wormholes on the inside and we recognize that they are the same thing just described in two different languages. Einstein I think would be shocked in many ways by the picture I'm showing you right here, but it's a picture that comes right out of our analysis with string theory. And in fact some researchers have taken this picture and pushed it even a little further. there's something amazing that pops out of the equations. If you start to cut the lines of entanglement, look at the entanglement line, the yellow line at the top, I'm about to cut it right now. So there it goes, I'm gonna cut that guy away. What does that imply for the geometry in the inner description? It entails that the geometry gets cut in half. The actual space itself gets cut in half if you sever some of the lines of quantum entanglement, see what it does to the geometry. And the geometry basically pixelates. It falls apart. Which means if I turn this story around backwards... In order to have a fabric of space... You have to stitch together the individual plaquettes. The individual pixels. How do you stitch them together? You stitch it together with the threads of quantum entanglement. So the fabric of space itself... entanglement. Again a wild, strange, crazy sounding idea, but naturally comes out of the mathematics and we have sort of grown to have a degree of confidence. Not necessary that all math tells us the true workings of the world, but certainly is worth our focus to try to determine whether these ideas are right or wrong because the payoff and the depth of understanding would be utterly\""
      ]
     },
     "execution_count": 6,
     "metadata": {},
     "output_type": "execute_result"
    }
   ],
   "source": [
    "result['text']"
   ]
  },
  {
   "cell_type": "code",
   "execution_count": 7,
   "id": "2fbc4d10-5ac4-41fb-b51c-ab054257cc98",
   "metadata": {},
   "outputs": [
    {
     "data": {
      "text/html": [
       "<div>\n",
       "<style scoped>\n",
       "    .dataframe tbody tr th:only-of-type {\n",
       "        vertical-align: middle;\n",
       "    }\n",
       "\n",
       "    .dataframe tbody tr th {\n",
       "        vertical-align: top;\n",
       "    }\n",
       "\n",
       "    .dataframe thead th {\n",
       "        text-align: right;\n",
       "    }\n",
       "</style>\n",
       "<table border=\"1\" class=\"dataframe\">\n",
       "  <thead>\n",
       "    <tr style=\"text-align: right;\">\n",
       "      <th></th>\n",
       "      <th>timestamp</th>\n",
       "      <th>text</th>\n",
       "    </tr>\n",
       "  </thead>\n",
       "  <tbody>\n",
       "    <tr>\n",
       "      <th>0</th>\n",
       "      <td>(0.0, 5.0)</td>\n",
       "      <td>So, thank you. It's a great pleasure to join ...</td>\n",
       "    </tr>\n",
       "    <tr>\n",
       "      <th>1</th>\n",
       "      <td>(5.86, 13.18)</td>\n",
       "      <td>And I'm going to focus my attention on an are...</td>\n",
       "    </tr>\n",
       "    <tr>\n",
       "      <th>2</th>\n",
       "      <td>(13.18, 20.78)</td>\n",
       "      <td>that I think fits in well with the themes tha...</td>\n",
       "    </tr>\n",
       "    <tr>\n",
       "      <th>3</th>\n",
       "      <td>(21.2, 54.01)</td>\n",
       "      <td>Because I'm going to be talking about the sci...</td>\n",
       "    </tr>\n",
       "    <tr>\n",
       "      <th>4</th>\n",
       "      <td>(54.01, 60.45)</td>\n",
       "      <td>thought was right. So in a way, if I was goin...</td>\n",
       "    </tr>\n",
       "    <tr>\n",
       "      <th>...</th>\n",
       "      <td>...</td>\n",
       "      <td>...</td>\n",
       "    </tr>\n",
       "    <tr>\n",
       "      <th>249</th>\n",
       "      <td>(3435.61, 3438.89)</td>\n",
       "      <td>You stitch it together with the threads of qu...</td>\n",
       "    </tr>\n",
       "    <tr>\n",
       "      <th>250</th>\n",
       "      <td>(3439.89, 3468.88)</td>\n",
       "      <td>So the fabric of space itself... entanglement...</td>\n",
       "    </tr>\n",
       "    <tr>\n",
       "      <th>251</th>\n",
       "      <td>(3468.88, 3473.38)</td>\n",
       "      <td>necessary that all math tells us the true wor...</td>\n",
       "    </tr>\n",
       "    <tr>\n",
       "      <th>252</th>\n",
       "      <td>(3473.38, 3478.38)</td>\n",
       "      <td>is worth our focus to try to determine whethe...</td>\n",
       "    </tr>\n",
       "    <tr>\n",
       "      <th>253</th>\n",
       "      <td>(3478.38, 3481.96)</td>\n",
       "      <td>because the payoff and the depth of understan...</td>\n",
       "    </tr>\n",
       "  </tbody>\n",
       "</table>\n",
       "<p>254 rows × 2 columns</p>\n",
       "</div>"
      ],
      "text/plain": [
       "              timestamp                                               text\n",
       "0            (0.0, 5.0)   So, thank you. It's a great pleasure to join ...\n",
       "1         (5.86, 13.18)   And I'm going to focus my attention on an are...\n",
       "2        (13.18, 20.78)   that I think fits in well with the themes tha...\n",
       "3         (21.2, 54.01)   Because I'm going to be talking about the sci...\n",
       "4        (54.01, 60.45)   thought was right. So in a way, if I was goin...\n",
       "..                  ...                                                ...\n",
       "249  (3435.61, 3438.89)   You stitch it together with the threads of qu...\n",
       "250  (3439.89, 3468.88)   So the fabric of space itself... entanglement...\n",
       "251  (3468.88, 3473.38)   necessary that all math tells us the true wor...\n",
       "252  (3473.38, 3478.38)   is worth our focus to try to determine whethe...\n",
       "253  (3478.38, 3481.96)   because the payoff and the depth of understan...\n",
       "\n",
       "[254 rows x 2 columns]"
      ]
     },
     "execution_count": 7,
     "metadata": {},
     "output_type": "execute_result"
    }
   ],
   "source": [
    "import pandas as pd\n",
    "df_transcribe = pd.DataFrame(result['chunks'])\n",
    "df_transcribe"
   ]
  },
  {
   "cell_type": "code",
   "execution_count": 8,
   "id": "f36ed36c-1cc8-4918-b9ba-787455cc3c16",
   "metadata": {},
   "outputs": [],
   "source": [
    "# Parse timestamp function\n",
    "def parse_audio_slice_timestamp(time_tuple):\n",
    "    time_list = list(time_tuple)\n",
    "    return time_list[0], time_list[1]"
   ]
  },
  {
   "cell_type": "code",
   "execution_count": 9,
   "id": "81f2da97-bafa-4357-8c54-953e6b657978",
   "metadata": {},
   "outputs": [
    {
     "data": {
      "text/html": [
       "<div>\n",
       "<style scoped>\n",
       "    .dataframe tbody tr th:only-of-type {\n",
       "        vertical-align: middle;\n",
       "    }\n",
       "\n",
       "    .dataframe tbody tr th {\n",
       "        vertical-align: top;\n",
       "    }\n",
       "\n",
       "    .dataframe thead th {\n",
       "        text-align: right;\n",
       "    }\n",
       "</style>\n",
       "<table border=\"1\" class=\"dataframe\">\n",
       "  <thead>\n",
       "    <tr style=\"text-align: right;\">\n",
       "      <th></th>\n",
       "      <th>timestamp</th>\n",
       "      <th>text</th>\n",
       "      <th>start</th>\n",
       "      <th>end</th>\n",
       "    </tr>\n",
       "  </thead>\n",
       "  <tbody>\n",
       "    <tr>\n",
       "      <th>0</th>\n",
       "      <td>(0.0, 5.0)</td>\n",
       "      <td>So, thank you. It's a great pleasure to join ...</td>\n",
       "      <td>0.00</td>\n",
       "      <td>5.00</td>\n",
       "    </tr>\n",
       "    <tr>\n",
       "      <th>1</th>\n",
       "      <td>(5.86, 13.18)</td>\n",
       "      <td>And I'm going to focus my attention on an are...</td>\n",
       "      <td>5.86</td>\n",
       "      <td>13.18</td>\n",
       "    </tr>\n",
       "    <tr>\n",
       "      <th>2</th>\n",
       "      <td>(13.18, 20.78)</td>\n",
       "      <td>that I think fits in well with the themes tha...</td>\n",
       "      <td>13.18</td>\n",
       "      <td>20.78</td>\n",
       "    </tr>\n",
       "    <tr>\n",
       "      <th>3</th>\n",
       "      <td>(21.2, 54.01)</td>\n",
       "      <td>Because I'm going to be talking about the sci...</td>\n",
       "      <td>21.20</td>\n",
       "      <td>54.01</td>\n",
       "    </tr>\n",
       "    <tr>\n",
       "      <th>4</th>\n",
       "      <td>(54.01, 60.45)</td>\n",
       "      <td>thought was right. So in a way, if I was goin...</td>\n",
       "      <td>54.01</td>\n",
       "      <td>60.45</td>\n",
       "    </tr>\n",
       "  </tbody>\n",
       "</table>\n",
       "</div>"
      ],
      "text/plain": [
       "        timestamp                                               text  start  \\\n",
       "0      (0.0, 5.0)   So, thank you. It's a great pleasure to join ...   0.00   \n",
       "1   (5.86, 13.18)   And I'm going to focus my attention on an are...   5.86   \n",
       "2  (13.18, 20.78)   that I think fits in well with the themes tha...  13.18   \n",
       "3   (21.2, 54.01)   Because I'm going to be talking about the sci...  21.20   \n",
       "4  (54.01, 60.45)   thought was right. So in a way, if I was goin...  54.01   \n",
       "\n",
       "     end  \n",
       "0   5.00  \n",
       "1  13.18  \n",
       "2  20.78  \n",
       "3  54.01  \n",
       "4  60.45  "
      ]
     },
     "execution_count": 9,
     "metadata": {},
     "output_type": "execute_result"
    }
   ],
   "source": [
    "transcribe_filename = \"the_nature_of_space_and_time_brian_greene.csv\"\n",
    "\n",
    "df_transcribe.loc[:, 'start'] = df_transcribe['timestamp'].apply(lambda x: list(x)[0])\n",
    "df_transcribe.loc[:, 'end'] = df_transcribe['timestamp'].apply(lambda x: list(x)[1])\n",
    "df_transcribe.to_csv(transcribe_filename, index=False)\n",
    "df_transcribe.head()"
   ]
  },
  {
   "cell_type": "code",
   "execution_count": 7,
   "id": "8c2696e8-ee38-488c-8363-a434b114c365",
   "metadata": {},
   "outputs": [
    {
     "name": "stderr",
     "output_type": "stream",
     "text": [
      "/home/zeus/miniconda3/envs/cloudspace/lib/python3.10/site-packages/langchain_core/_api/deprecation.py:139: LangChainDeprecationWarning: The class `HuggingFaceEmbeddings` was deprecated in LangChain 0.2.2 and will be removed in 0.3.0. An updated version of the class exists in the langchain-huggingface package and should be used instead. To use it run `pip install -U langchain-huggingface` and import as `from langchain_huggingface import HuggingFaceEmbeddings`.\n",
      "  warn_deprecated(\n"
     ]
    }
   ],
   "source": [
    "from langchain.embeddings import OllamaEmbeddings, SentenceTransformerEmbeddings\n",
    "\n",
    "embeddings = SentenceTransformerEmbeddings(\n",
    "    model_name=\"BAAI/bge-large-zh-v1.5\", \n",
    "    cache_folder=\"embedding_models\",\n",
    ")"
   ]
  },
  {
   "cell_type": "code",
   "execution_count": 11,
   "id": "0d11fd3e-5e0a-4390-bb98-b4d719b486d2",
   "metadata": {},
   "outputs": [],
   "source": [
    "# Lambda function to embed audio text\n",
    "add_embed = lambda x: embeddings.embed_query(x['text'])"
   ]
  },
  {
   "cell_type": "code",
   "execution_count": 12,
   "id": "70cc4e57-ae50-4dbc-ac8e-15a5684ff839",
   "metadata": {},
   "outputs": [],
   "source": [
    "df_embed = df_transcribe.copy()"
   ]
  },
  {
   "cell_type": "code",
   "execution_count": 13,
   "id": "e5bf5866-82b5-44c8-a93e-5778cdb6b97e",
   "metadata": {},
   "outputs": [
    {
     "data": {
      "text/html": [
       "<div>\n",
       "<style scoped>\n",
       "    .dataframe tbody tr th:only-of-type {\n",
       "        vertical-align: middle;\n",
       "    }\n",
       "\n",
       "    .dataframe tbody tr th {\n",
       "        vertical-align: top;\n",
       "    }\n",
       "\n",
       "    .dataframe thead th {\n",
       "        text-align: right;\n",
       "    }\n",
       "</style>\n",
       "<table border=\"1\" class=\"dataframe\">\n",
       "  <thead>\n",
       "    <tr style=\"text-align: right;\">\n",
       "      <th></th>\n",
       "      <th>timestamp</th>\n",
       "      <th>text</th>\n",
       "      <th>start</th>\n",
       "      <th>end</th>\n",
       "      <th>text_embed</th>\n",
       "    </tr>\n",
       "  </thead>\n",
       "  <tbody>\n",
       "    <tr>\n",
       "      <th>0</th>\n",
       "      <td>(0.0, 5.0)</td>\n",
       "      <td>So, thank you. It's a great pleasure to join ...</td>\n",
       "      <td>0.00</td>\n",
       "      <td>5.00</td>\n",
       "      <td>[0.08198381215333939, -0.004050110466778278, -...</td>\n",
       "    </tr>\n",
       "    <tr>\n",
       "      <th>1</th>\n",
       "      <td>(5.86, 13.18)</td>\n",
       "      <td>And I'm going to focus my attention on an are...</td>\n",
       "      <td>5.86</td>\n",
       "      <td>13.18</td>\n",
       "      <td>[0.03211100399494171, -0.014226330444216728, 0...</td>\n",
       "    </tr>\n",
       "    <tr>\n",
       "      <th>2</th>\n",
       "      <td>(13.18, 20.78)</td>\n",
       "      <td>that I think fits in well with the themes tha...</td>\n",
       "      <td>13.18</td>\n",
       "      <td>20.78</td>\n",
       "      <td>[0.04614894464612007, -0.02412410080432892, -0...</td>\n",
       "    </tr>\n",
       "    <tr>\n",
       "      <th>3</th>\n",
       "      <td>(21.2, 54.01)</td>\n",
       "      <td>Because I'm going to be talking about the sci...</td>\n",
       "      <td>21.20</td>\n",
       "      <td>54.01</td>\n",
       "      <td>[0.04168698936700821, 0.05509776249527931, -0....</td>\n",
       "    </tr>\n",
       "    <tr>\n",
       "      <th>4</th>\n",
       "      <td>(54.01, 60.45)</td>\n",
       "      <td>thought was right. So in a way, if I was goin...</td>\n",
       "      <td>54.01</td>\n",
       "      <td>60.45</td>\n",
       "      <td>[0.031016165390610695, -0.01409019622951746, 0...</td>\n",
       "    </tr>\n",
       "  </tbody>\n",
       "</table>\n",
       "</div>"
      ],
      "text/plain": [
       "        timestamp                                               text  start  \\\n",
       "0      (0.0, 5.0)   So, thank you. It's a great pleasure to join ...   0.00   \n",
       "1   (5.86, 13.18)   And I'm going to focus my attention on an are...   5.86   \n",
       "2  (13.18, 20.78)   that I think fits in well with the themes tha...  13.18   \n",
       "3   (21.2, 54.01)   Because I'm going to be talking about the sci...  21.20   \n",
       "4  (54.01, 60.45)   thought was right. So in a way, if I was goin...  54.01   \n",
       "\n",
       "     end                                         text_embed  \n",
       "0   5.00  [0.08198381215333939, -0.004050110466778278, -...  \n",
       "1  13.18  [0.03211100399494171, -0.014226330444216728, 0...  \n",
       "2  20.78  [0.04614894464612007, -0.02412410080432892, -0...  \n",
       "3  54.01  [0.04168698936700821, 0.05509776249527931, -0....  \n",
       "4  60.45  [0.031016165390610695, -0.01409019622951746, 0...  "
      ]
     },
     "execution_count": 13,
     "metadata": {},
     "output_type": "execute_result"
    }
   ],
   "source": [
    "df_embed.loc[:, 'text_embed'] = df_embed.apply(add_embed, axis=1)\n",
    "df_embed.head()"
   ]
  },
  {
   "cell_type": "code",
   "execution_count": 14,
   "id": "1f2557fe-8d12-4696-b664-93f93aaa993d",
   "metadata": {},
   "outputs": [
    {
     "data": {
      "text/plain": [
       "1024"
      ]
     },
     "execution_count": 14,
     "metadata": {},
     "output_type": "execute_result"
    }
   ],
   "source": [
    "# Check embed vector length\n",
    "len(df_embed['text_embed'].iloc[0])"
   ]
  },
  {
   "cell_type": "code",
   "execution_count": 15,
   "id": "d0e73a77-cba0-428c-9bca-07166af0b843",
   "metadata": {},
   "outputs": [],
   "source": [
    "# Provide a search query\n",
    "query = \"black hole\"\n",
    "search_term_embed = embeddings.embed_query(query)"
   ]
  },
  {
   "cell_type": "code",
   "execution_count": 16,
   "id": "34b5106e-cc9d-4a15-ac3e-7df353eb3673",
   "metadata": {},
   "outputs": [],
   "source": [
    "# Similarity Search function\n",
    "import numpy as np\n",
    "def cosine_similarity(a, b):\n",
    "    return np.dot(a, b) / (np.linalg.norm(a) * np.linalg.norm(b))"
   ]
  },
  {
   "cell_type": "code",
   "execution_count": 17,
   "id": "37c5f64a-166b-4bb5-9abd-1e43fca18c0f",
   "metadata": {},
   "outputs": [
    {
     "data": {
      "text/html": [
       "<div>\n",
       "<style scoped>\n",
       "    .dataframe tbody tr th:only-of-type {\n",
       "        vertical-align: middle;\n",
       "    }\n",
       "\n",
       "    .dataframe tbody tr th {\n",
       "        vertical-align: top;\n",
       "    }\n",
       "\n",
       "    .dataframe thead th {\n",
       "        text-align: right;\n",
       "    }\n",
       "</style>\n",
       "<table border=\"1\" class=\"dataframe\">\n",
       "  <thead>\n",
       "    <tr style=\"text-align: right;\">\n",
       "      <th></th>\n",
       "      <th>timestamp</th>\n",
       "      <th>text</th>\n",
       "      <th>start</th>\n",
       "      <th>end</th>\n",
       "      <th>text_embed</th>\n",
       "      <th>cosine_similarity</th>\n",
       "    </tr>\n",
       "  </thead>\n",
       "  <tbody>\n",
       "    <tr>\n",
       "      <th>88</th>\n",
       "      <td>(1212.67, 1215.67)</td>\n",
       "      <td>and therefore is black, a black hole.</td>\n",
       "      <td>1212.67</td>\n",
       "      <td>1215.67</td>\n",
       "      <td>[-0.013117685914039612, 0.03600084036588669, 0...</td>\n",
       "      <td>0.677420</td>\n",
       "    </tr>\n",
       "    <tr>\n",
       "      <th>233</th>\n",
       "      <td>(3255.82, 3259.44)</td>\n",
       "      <td>that this black hole has an alternative descr...</td>\n",
       "      <td>3255.82</td>\n",
       "      <td>3259.44</td>\n",
       "      <td>[0.007341235410422087, 0.049132268875837326, -...</td>\n",
       "      <td>0.672928</td>\n",
       "    </tr>\n",
       "    <tr>\n",
       "      <th>171</th>\n",
       "      <td>(2448.64, 2454.04)</td>\n",
       "      <td>photograph was released a far sharper image o...</td>\n",
       "      <td>2448.64</td>\n",
       "      <td>2454.04</td>\n",
       "      <td>[0.04561213403940201, 0.05503472313284874, -0....</td>\n",
       "      <td>0.594769</td>\n",
       "    </tr>\n",
       "    <tr>\n",
       "      <th>166</th>\n",
       "      <td>(2404.81, 2409.21)</td>\n",
       "      <td>The first direct image of a black hole.</td>\n",
       "      <td>2404.81</td>\n",
       "      <td>2409.21</td>\n",
       "      <td>[0.004232809878885746, 0.03027334436774254, -0...</td>\n",
       "      <td>0.593661</td>\n",
       "    </tr>\n",
       "    <tr>\n",
       "      <th>164</th>\n",
       "      <td>(2360.54, 2365.76)</td>\n",
       "      <td>black holes collided with each other some tim...</td>\n",
       "      <td>2360.54</td>\n",
       "      <td>2365.76</td>\n",
       "      <td>[0.025313926860690117, 0.07076461613178253, -0...</td>\n",
       "      <td>0.578680</td>\n",
       "    </tr>\n",
       "  </tbody>\n",
       "</table>\n",
       "</div>"
      ],
      "text/plain": [
       "              timestamp                                               text  \\\n",
       "88   (1212.67, 1215.67)              and therefore is black, a black hole.   \n",
       "233  (3255.82, 3259.44)   that this black hole has an alternative descr...   \n",
       "171  (2448.64, 2454.04)   photograph was released a far sharper image o...   \n",
       "166  (2404.81, 2409.21)            The first direct image of a black hole.   \n",
       "164  (2360.54, 2365.76)   black holes collided with each other some tim...   \n",
       "\n",
       "       start      end                                         text_embed  \\\n",
       "88   1212.67  1215.67  [-0.013117685914039612, 0.03600084036588669, 0...   \n",
       "233  3255.82  3259.44  [0.007341235410422087, 0.049132268875837326, -...   \n",
       "171  2448.64  2454.04  [0.04561213403940201, 0.05503472313284874, -0....   \n",
       "166  2404.81  2409.21  [0.004232809878885746, 0.03027334436774254, -0...   \n",
       "164  2360.54  2365.76  [0.025313926860690117, 0.07076461613178253, -0...   \n",
       "\n",
       "     cosine_similarity  \n",
       "88            0.677420  \n",
       "233           0.672928  \n",
       "171           0.594769  \n",
       "166           0.593661  \n",
       "164           0.578680  "
      ]
     },
     "execution_count": 17,
     "metadata": {},
     "output_type": "execute_result"
    }
   ],
   "source": [
    "# Perform Cosine Similarity\n",
    "df_embed.loc[:, 'cosine_similarity'] = df_embed['text_embed'].apply(lambda x: cosine_similarity(x, search_term_embed))\n",
    "df_sorted = df_embed.sort_values(by='cosine_similarity', ascending=False)\n",
    "df_sorted.head()"
   ]
  },
  {
   "cell_type": "code",
   "execution_count": 18,
   "id": "f09ebf8d-547f-4949-94c6-de060aaa3ee1",
   "metadata": {},
   "outputs": [],
   "source": [
    "# Playback function\n",
    "from pydub.playback import play\n",
    "def playback_by_query(query, k=3, show_text=False):\n",
    "    search_term = query\n",
    "    search_term_embed = embeddings.embed_query(search_term)\n",
    "\n",
    "    df_embed.loc[:, 'cosine_similarity'] = df_embed['text_embed'].apply(lambda x: cosine_similarity(x, search_term_embed))\n",
    "    df_sorted = df_embed.sort_values(by='cosine_similarity', ascending=False)\n",
    "\n",
    "    if show_text:\n",
    "        display(df_sorted.iloc[:k]['text'])\n",
    "\n",
    "    for index, row in df_sorted.iloc[:k].iterrows():\n",
    "        play(sound[row.start*1000: row.end*1000])"
   ]
  },
  {
   "cell_type": "code",
   "execution_count": 19,
   "id": "f59492f4-96a5-4506-915c-bb87c29fff9c",
   "metadata": {},
   "outputs": [
    {
     "name": "stderr",
     "output_type": "stream",
     "text": [
      "Input #0, wav, from '/tmp/tmp2vfqnolj.wav':   0KB sq=    0B f=0/0   \n",
      "  Duration: 00:00:03.62, bitrate: 1536 kb/s\n",
      "    Stream #0:0: Audio: pcm_s16le ([1][0][0][0] / 0x0001), 48000 Hz, 2 channels, s16, 1536 kb/s\n",
      "ALSA lib confmisc.c:767:(parse_card) cannot find card '0'\n",
      "ALSA lib conf.c:4732:(_snd_config_evaluate) function snd_func_card_driver returned error: No such file or directory\n",
      "ALSA lib confmisc.c:392:(snd_func_concat) error evaluating strings\n",
      "ALSA lib conf.c:4732:(_snd_config_evaluate) function snd_func_concat returned error: No such file or directory\n",
      "ALSA lib confmisc.c:1246:(snd_func_refer) error evaluating name\n",
      "ALSA lib conf.c:4732:(_snd_config_evaluate) function snd_func_refer returned error: No such file or directory\n",
      "ALSA lib conf.c:5220:(snd_config_expand) Evaluate error: No such file or directory\n",
      "ALSA lib pcm.c:2642:(snd_pcm_open_noupdate) Unknown PCM default\n",
      "SDL_OpenAudio (2 channels, 48000 Hz): ALSA: Couldn't open audio device: No such file or directory\n",
      "ALSA lib confmisc.c:767:(parse_card) cannot find card '0'\n",
      "ALSA lib conf.c:4732:(_snd_config_evaluate) function snd_func_card_driver returned error: No such file or directory\n",
      "ALSA lib confmisc.c:392:(snd_func_concat) error evaluating strings\n",
      "ALSA lib conf.c:4732:(_snd_config_evaluate) function snd_func_concat returned error: No such file or directory\n",
      "ALSA lib confmisc.c:1246:(snd_func_refer) error evaluating name\n",
      "ALSA lib conf.c:4732:(_snd_config_evaluate) function snd_func_refer returned error: No such file or directory\n",
      "ALSA lib conf.c:5220:(snd_config_expand) Evaluate error: No such file or directory\n",
      "ALSA lib pcm.c:2642:(snd_pcm_open_noupdate) Unknown PCM default\n",
      "SDL_OpenAudio (1 channels, 48000 Hz): ALSA: Couldn't open audio device: No such file or directory\n",
      "ALSA lib confmisc.c:767:(parse_card) cannot find card '0'\n",
      "ALSA lib conf.c:4732:(_snd_config_evaluate) function snd_func_card_driver returned error: No such file or directory\n",
      "ALSA lib confmisc.c:392:(snd_func_concat) error evaluating strings\n",
      "ALSA lib conf.c:4732:(_snd_config_evaluate) function snd_func_concat returned error: No such file or directory\n",
      "ALSA lib confmisc.c:1246:(snd_func_refer) error evaluating name\n",
      "ALSA lib conf.c:4732:(_snd_config_evaluate) function snd_func_refer returned error: No such file or directory\n",
      "ALSA lib conf.c:5220:(snd_config_expand) Evaluate error: No such file or directory\n",
      "ALSA lib pcm.c:2642:(snd_pcm_open_noupdate) Unknown PCM default\n",
      "SDL_OpenAudio (2 channels, 44100 Hz): ALSA: Couldn't open audio device: No such file or directory\n",
      "ALSA lib confmisc.c:767:(parse_card) cannot find card '0'\n",
      "ALSA lib conf.c:4732:(_snd_config_evaluate) function snd_func_card_driver returned error: No such file or directory\n",
      "ALSA lib confmisc.c:392:(snd_func_concat) error evaluating strings\n",
      "ALSA lib conf.c:4732:(_snd_config_evaluate) function snd_func_concat returned error: No such file or directory\n",
      "ALSA lib confmisc.c:1246:(snd_func_refer) error evaluating name\n",
      "ALSA lib conf.c:4732:(_snd_config_evaluate) function snd_func_refer returned error: No such file or directory\n",
      "ALSA lib conf.c:5220:(snd_config_expand) Evaluate error: No such file or directory\n",
      "ALSA lib pcm.c:2642:(snd_pcm_open_noupdate) Unknown PCM default\n",
      "SDL_OpenAudio (1 channels, 44100 Hz): ALSA: Couldn't open audio device: No such file or directory\n",
      "No more combinations to try, audio open failed\n",
      "Failed to open file '/tmp/tmp2vfqnolj.wav' or configure filtergraph\n",
      "Input #0, wav, from '/tmp/tmprbe2380a.wav':   0KB sq=    0B f=0/0   \n",
      "  Duration: 00:00:03.00, bitrate: 1536 kb/s\n",
      "    Stream #0:0: Audio: pcm_s16le ([1][0][0][0] / 0x0001), 48000 Hz, 2 channels, s16, 1536 kb/s\n",
      "ALSA lib confmisc.c:767:(parse_card) cannot find card '0'\n",
      "ALSA lib conf.c:4732:(_snd_config_evaluate) function snd_func_card_driver returned error: No such file or directory\n",
      "ALSA lib confmisc.c:392:(snd_func_concat) error evaluating strings\n",
      "ALSA lib conf.c:4732:(_snd_config_evaluate) function snd_func_concat returned error: No such file or directory\n",
      "ALSA lib confmisc.c:1246:(snd_func_refer) error evaluating name\n",
      "ALSA lib conf.c:4732:(_snd_config_evaluate) function snd_func_refer returned error: No such file or directory\n",
      "ALSA lib conf.c:5220:(snd_config_expand) Evaluate error: No such file or directory\n",
      "ALSA lib pcm.c:2642:(snd_pcm_open_noupdate) Unknown PCM default\n",
      "SDL_OpenAudio (2 channels, 48000 Hz): ALSA: Couldn't open audio device: No such file or directory\n",
      "ALSA lib confmisc.c:767:(parse_card) cannot find card '0'\n",
      "ALSA lib conf.c:4732:(_snd_config_evaluate) function snd_func_card_driver returned error: No such file or directory\n",
      "ALSA lib confmisc.c:392:(snd_func_concat) error evaluating strings\n",
      "ALSA lib conf.c:4732:(_snd_config_evaluate) function snd_func_concat returned error: No such file or directory\n",
      "ALSA lib confmisc.c:1246:(snd_func_refer) error evaluating name\n",
      "ALSA lib conf.c:4732:(_snd_config_evaluate) function snd_func_refer returned error: No such file or directory\n",
      "ALSA lib conf.c:5220:(snd_config_expand) Evaluate error: No such file or directory\n",
      "ALSA lib pcm.c:2642:(snd_pcm_open_noupdate) Unknown PCM default\n",
      "SDL_OpenAudio (1 channels, 48000 Hz): ALSA: Couldn't open audio device: No such file or directory\n",
      "ALSA lib confmisc.c:767:(parse_card) cannot find card '0'\n",
      "ALSA lib conf.c:4732:(_snd_config_evaluate) function snd_func_card_driver returned error: No such file or directory\n",
      "ALSA lib confmisc.c:392:(snd_func_concat) error evaluating strings\n",
      "ALSA lib conf.c:4732:(_snd_config_evaluate) function snd_func_concat returned error: No such file or directory\n",
      "ALSA lib confmisc.c:1246:(snd_func_refer) error evaluating name\n",
      "ALSA lib conf.c:4732:(_snd_config_evaluate) function snd_func_refer returned error: No such file or directory\n",
      "ALSA lib conf.c:5220:(snd_config_expand) Evaluate error: No such file or directory\n",
      "ALSA lib pcm.c:2642:(snd_pcm_open_noupdate) Unknown PCM default\n",
      "SDL_OpenAudio (2 channels, 44100 Hz): ALSA: Couldn't open audio device: No such file or directory\n",
      "ALSA lib confmisc.c:767:(parse_card) cannot find card '0'\n",
      "ALSA lib conf.c:4732:(_snd_config_evaluate) function snd_func_card_driver returned error: No such file or directory\n",
      "ALSA lib confmisc.c:392:(snd_func_concat) error evaluating strings\n",
      "ALSA lib conf.c:4732:(_snd_config_evaluate) function snd_func_concat returned error: No such file or directory\n",
      "ALSA lib confmisc.c:1246:(snd_func_refer) error evaluating name\n",
      "ALSA lib conf.c:4732:(_snd_config_evaluate) function snd_func_refer returned error: No such file or directory\n",
      "ALSA lib conf.c:5220:(snd_config_expand) Evaluate error: No such file or directory\n",
      "ALSA lib pcm.c:2642:(snd_pcm_open_noupdate) Unknown PCM default\n",
      "SDL_OpenAudio (1 channels, 44100 Hz): ALSA: Couldn't open audio device: No such file or directory\n",
      "No more combinations to try, audio open failed\n",
      "Failed to open file '/tmp/tmprbe2380a.wav' or configure filtergraph\n"
     ]
    },
    {
     "name": "stdout",
     "output_type": "stream",
     "text": [
      "\n",
      "\n",
      "\n"
     ]
    },
    {
     "name": "stderr",
     "output_type": "stream",
     "text": [
      "Input #0, wav, from '/tmp/tmpc7hzbtgu.wav':   0KB sq=    0B f=0/0   \n",
      "  Duration: 00:00:04.40, bitrate: 1536 kb/s\n",
      "    Stream #0:0: Audio: pcm_s16le ([1][0][0][0] / 0x0001), 48000 Hz, 2 channels, s16, 1536 kb/s\n",
      "ALSA lib confmisc.c:767:(parse_card) cannot find card '0'\n",
      "ALSA lib conf.c:4732:(_snd_config_evaluate) function snd_func_card_driver returned error: No such file or directory\n",
      "ALSA lib confmisc.c:392:(snd_func_concat) error evaluating strings\n",
      "ALSA lib conf.c:4732:(_snd_config_evaluate) function snd_func_concat returned error: No such file or directory\n",
      "ALSA lib confmisc.c:1246:(snd_func_refer) error evaluating name\n",
      "ALSA lib conf.c:4732:(_snd_config_evaluate) function snd_func_refer returned error: No such file or directory\n",
      "ALSA lib conf.c:5220:(snd_config_expand) Evaluate error: No such file or directory\n",
      "ALSA lib pcm.c:2642:(snd_pcm_open_noupdate) Unknown PCM default\n",
      "SDL_OpenAudio (2 channels, 48000 Hz): ALSA: Couldn't open audio device: No such file or directory\n",
      "ALSA lib confmisc.c:767:(parse_card) cannot find card '0'\n",
      "ALSA lib conf.c:4732:(_snd_config_evaluate) function snd_func_card_driver returned error: No such file or directory\n",
      "ALSA lib confmisc.c:392:(snd_func_concat) error evaluating strings\n",
      "ALSA lib conf.c:4732:(_snd_config_evaluate) function snd_func_concat returned error: No such file or directory\n",
      "ALSA lib confmisc.c:1246:(snd_func_refer) error evaluating name\n",
      "ALSA lib conf.c:4732:(_snd_config_evaluate) function snd_func_refer returned error: No such file or directory\n",
      "ALSA lib conf.c:5220:(snd_config_expand) Evaluate error: No such file or directory\n",
      "ALSA lib pcm.c:2642:(snd_pcm_open_noupdate) Unknown PCM default\n",
      "SDL_OpenAudio (1 channels, 48000 Hz): ALSA: Couldn't open audio device: No such file or directory\n",
      "ALSA lib confmisc.c:767:(parse_card) cannot find card '0'\n",
      "ALSA lib conf.c:4732:(_snd_config_evaluate) function snd_func_card_driver returned error: No such file or directory\n",
      "ALSA lib confmisc.c:392:(snd_func_concat) error evaluating strings\n",
      "ALSA lib conf.c:4732:(_snd_config_evaluate) function snd_func_concat returned error: No such file or directory\n",
      "ALSA lib confmisc.c:1246:(snd_func_refer) error evaluating name\n",
      "ALSA lib conf.c:4732:(_snd_config_evaluate) function snd_func_refer returned error: No such file or directory\n",
      "ALSA lib conf.c:5220:(snd_config_expand) Evaluate error: No such file or directory\n",
      "ALSA lib pcm.c:2642:(snd_pcm_open_noupdate) Unknown PCM default\n",
      "SDL_OpenAudio (2 channels, 44100 Hz): ALSA: Couldn't open audio device: No such file or directory\n",
      "ALSA lib confmisc.c:767:(parse_card) cannot find card '0'\n",
      "ALSA lib conf.c:4732:(_snd_config_evaluate) function snd_func_card_driver returned error: No such file or directory\n",
      "ALSA lib confmisc.c:392:(snd_func_concat) error evaluating strings\n",
      "ALSA lib conf.c:4732:(_snd_config_evaluate) function snd_func_concat returned error: No such file or directory\n",
      "ALSA lib confmisc.c:1246:(snd_func_refer) error evaluating name\n",
      "ALSA lib conf.c:4732:(_snd_config_evaluate) function snd_func_refer returned error: No such file or directory\n",
      "ALSA lib conf.c:5220:(snd_config_expand) Evaluate error: No such file or directory\n",
      "ALSA lib pcm.c:2642:(snd_pcm_open_noupdate) Unknown PCM default\n",
      "SDL_OpenAudio (1 channels, 44100 Hz): ALSA: Couldn't open audio device: No such file or directory\n",
      "No more combinations to try, audio open failed\n",
      "Failed to open file '/tmp/tmpc7hzbtgu.wav' or configure filtergraph\n"
     ]
    }
   ],
   "source": [
    "playback_by_query(\"What is black hole?\")"
   ]
  },
  {
   "cell_type": "code",
   "execution_count": 20,
   "id": "752ff8fd-f227-4fbe-8da0-2686919f8668",
   "metadata": {},
   "outputs": [],
   "source": [
    "# Save transcribe text into txt file\n",
    "with open(\"transcribed_text.txt\", \"w\") as text_file:\n",
    "    text_file.write(result['text'])"
   ]
  },
  {
   "cell_type": "markdown",
   "id": "60898488-8b2d-475c-b9a2-8f7ef7e95105",
   "metadata": {},
   "source": [
    "## RAG Search"
   ]
  },
  {
   "cell_type": "code",
   "execution_count": 1,
   "id": "34d9e81c-6d59-4fd6-8f35-50d5eef174da",
   "metadata": {},
   "outputs": [],
   "source": [
    "from langchain.text_splitter import RecursiveCharacterTextSplitter\n",
    "from langchain_core.output_parsers import StrOutputParser\n",
    "from langchain_community.document_loaders import TextLoader\n",
    "\n",
    "loader = TextLoader(\"transcribed_text.txt\")\n",
    "documents = loader.load()\n",
    "text_splitter = RecursiveCharacterTextSplitter(chunk_size=500, chunk_overlap=50)\n",
    "docs = text_splitter.split_documents(documents)"
   ]
  },
  {
   "cell_type": "code",
   "execution_count": 2,
   "id": "ef37665b-f40c-4d43-9d5e-28f3ef2ffe0a",
   "metadata": {},
   "outputs": [
    {
     "data": {
      "text/plain": [
       "(60,\n",
       " Document(metadata={'source': 'transcribed_text.txt'}, page_content='to stitch together the individual plaquettes. The individual pixels. How do you stitch them together? You stitch it together with the threads of quantum entanglement. So the fabric of space itself... entanglement. Again a wild, strange, crazy sounding idea, but naturally comes out of the mathematics and we have sort of grown to have a degree of confidence. Not necessary that all math tells us the true workings of the world, but certainly is worth our focus to try to determine whether these'))"
      ]
     },
     "execution_count": 2,
     "metadata": {},
     "output_type": "execute_result"
    }
   ],
   "source": [
    "len(docs), docs[-2]"
   ]
  },
  {
   "cell_type": "code",
   "execution_count": 28,
   "id": "188977a9-f4d2-41db-928d-f75a0dd86c12",
   "metadata": {},
   "outputs": [
    {
     "data": {
      "text/plain": [
       "True"
      ]
     },
     "execution_count": 28,
     "metadata": {},
     "output_type": "execute_result"
    }
   ],
   "source": [
    "from dotenv import load_dotenv\n",
    "load_dotenv()    "
   ]
  },
  {
   "cell_type": "code",
   "execution_count": 4,
   "id": "681d725c-10e5-46d2-8188-f02335a244d9",
   "metadata": {},
   "outputs": [],
   "source": [
    "import time\n",
    "from pinecone import Pinecone, ServerlessSpec\n",
    "pc = Pinecone()"
   ]
  },
  {
   "cell_type": "code",
   "execution_count": 5,
   "id": "7da677e7-9d2b-412a-8c1f-9f0e8e18d26d",
   "metadata": {},
   "outputs": [],
   "source": [
    "import time\n",
    "index_name = \"nature-of-space-time-asr-index\"\n",
    "\n",
    "existing_indexes = [index_info[\"name\"] for index_info in pc.list_indexes()]\n",
    "\n",
    "if index_name not in existing_indexes:\n",
    "    pc.create_index(\n",
    "        name=index_name,\n",
    "        dimension=1024,\n",
    "        metric=\"cosine\",\n",
    "        spec=ServerlessSpec(cloud=\"aws\", region=\"us-east-1\"),\n",
    "    )\n",
    "    while not pc.describe_index(index_name).status[\"ready\"]:\n",
    "        time.sleep(1)\n",
    "\n",
    "index = pc.Index(index_name)"
   ]
  },
  {
   "cell_type": "code",
   "execution_count": 8,
   "id": "32d8167e-eac0-4f0d-a42b-64057e1f7cb6",
   "metadata": {},
   "outputs": [],
   "source": [
    "from langchain_pinecone import PineconeVectorStore\n",
    "speech_vector = PineconeVectorStore.from_documents(docs, embeddings, index_name=index_name)"
   ]
  },
  {
   "cell_type": "code",
   "execution_count": 42,
   "id": "b251ad06-ec8d-4a88-81b0-c1da4c781eb6",
   "metadata": {},
   "outputs": [],
   "source": [
    "from langchain_openai import ChatOpenAI\n",
    "\n",
    "llm = ChatOpenAI(model=\"gpt-4o\")"
   ]
  },
  {
   "cell_type": "code",
   "execution_count": 10,
   "id": "5835c2f2",
   "metadata": {},
   "outputs": [],
   "source": [
    "# Setup Project\n",
    "from langchain.prompts import PromptTemplate\n",
    "from langchain.prompts.chat import (\n",
    "    ChatPromptTemplate, \n",
    "    SystemMessagePromptTemplate, \n",
    "    AIMessagePromptTemplate, \n",
    "    HumanMessagePromptTemplate\n",
    ")"
   ]
  },
  {
   "cell_type": "code",
   "execution_count": 11,
   "id": "ecd45a78",
   "metadata": {},
   "outputs": [],
   "source": [
    "# Create RAG prompt\n",
    "rag_prompt = ChatPromptTemplate(\n",
    "    input_variables=['context', 'question'], \n",
    "    messages=[\n",
    "        HumanMessagePromptTemplate(\n",
    "            prompt=PromptTemplate(\n",
    "                input_variables=['context', 'question'], \n",
    "                template=\"\"\"You answer questions about the contents of a transcribed audio file.\n",
    "                Use only the provided audio file transcription as context to answer the question.\n",
    "                Do not use any additional information.\n",
    "                If you don't know the answer, just say that you don't know. Do not use the external knowledge.\n",
    "                Use three sentences maximum and keep the answer concise.\n",
    "                Make sure to reference your sources with quotes of the provided context as citations.\n",
    "                \\nQuestion: {question} \\nContext: {context} \\nAnswer:\n",
    "                \"\"\"\n",
    "            )\n",
    "        )\n",
    "    ]\n",
    ")"
   ]
  },
  {
   "cell_type": "code",
   "execution_count": 12,
   "id": "79441b0a",
   "metadata": {},
   "outputs": [],
   "source": [
    "# Create Retriever\n",
    "retriever = speech_vector.as_retriever(\n",
    "    search_type='similarity', \n",
    "    search_kwargs={'k': 4}\n",
    ")\n",
    "\n",
    "# Check retriever\n",
    "query = \"What is black hole\"\n",
    "docs = retriever.invoke(query)\n",
    "assert docs == speech_vector.similarity_search(query, )"
   ]
  },
  {
   "cell_type": "code",
   "execution_count": 21,
   "id": "b9b347f6",
   "metadata": {},
   "outputs": [],
   "source": [
    "from langchain_core.runnables import RunnableLambda, RunnablePassthrough\n",
    "\n",
    "# Chain\n",
    "chain = (\n",
    "    {\"context\": retriever, \"question\": RunnablePassthrough()} |\n",
    "    rag_prompt |\n",
    "    llm |\n",
    "    StrOutputParser()\n",
    ")"
   ]
  },
  {
   "cell_type": "code",
   "execution_count": 22,
   "id": "6985d323",
   "metadata": {},
   "outputs": [
    {
     "name": "stdout",
     "output_type": "stream",
     "text": [
      "According to the transcription, a black hole is an object that \"will not allow light to escape and therefore is black\" (Document 2). It is created when a spherical body is crushed down to a sufficiently small size, causing a warp in the fabric of space (Document 2). The size required to create a black hole is extremely small, such as squeezing the entire sun to a couple of kilometers across (Document 4).\n"
     ]
    }
   ],
   "source": [
    "print(chain.invoke(query))"
   ]
  },
  {
   "cell_type": "code",
   "execution_count": 23,
   "id": "6872ff3d",
   "metadata": {},
   "outputs": [],
   "source": [
    "# Summarize the audio content\n",
    "prompt_test = \"\"\"\n",
    "You are commentator. Your task is to write a report on a meeting transcription.\n",
    "When presented with the meeting minutes, come up with interesting questions to ask,\n",
    "and answer each question.\n",
    "Afterwards, combine all the information and write a report in the markdown format.\n",
    "\n",
    "# Meeting keynotes:\n",
    "\"{text}\"\n",
    "\n",
    "# Instructions:\n",
    "## Summarize:\n",
    "In clear and concise language, use only the context information, to summarize the key points.\n",
    "\n",
    "## Interesting questions:\n",
    "Generate three distinct and thought-provoking questions that can be\n",
    "asked about the content of the meeting. For each questions:\n",
    "- After \"Q: \", describe the problem\n",
    "- After \"A: \", provide a detailed explaination of the problem addressed in the question.\n",
    "- Enclose the ultimate answer in <>.\n",
    "\n",
    "## Write analysis report\n",
    "Using the summary and the answers to the interesting questions,\n",
    "create a comprehensive report in Markdown format.\n",
    "\"\"\"\n",
    "summary_prompt = PromptTemplate.from_template(prompt_test)"
   ]
  },
  {
   "cell_type": "code",
   "execution_count": 24,
   "id": "e1f80fde",
   "metadata": {},
   "outputs": [],
   "source": [
    "with open('transcribed_text.txt', 'r') as file:\n",
    "    transcribe_text = file.read().rstrip()"
   ]
  },
  {
   "cell_type": "code",
   "execution_count": 43,
   "id": "9827cc0a",
   "metadata": {},
   "outputs": [
    {
     "name": "stdout",
     "output_type": "stream",
     "text": [
      "## Summary\n",
      "\n",
      "The meeting focused on the science of black holes, tracing the history from Newton's law of gravity to Einstein's theory of general relativity and the modern understanding of black holes. The speaker discussed how Newton's laws laid the foundation for understanding gravitational forces and escape velocity. Moving forward, Einstein's revolutionary idea that gravity is the warping of space-time by massive objects was explained. The concept of black holes was further elaborated, including their formation through stellar collapse and the historical skepticism by Einstein himself. The meeting also covered the significant observational evidence of black holes, including gravitational waves detected by LIGO and the first direct image of a black hole. Lastly, the talk ventured into the holographic principle and quantum entanglement, suggesting that our three-dimensional reality might be a projection of data on a two-dimensional surface, and how these ideas could stitch together the fabric of space-time itself.\n",
      "\n",
      "## Interesting Questions\n",
      "\n",
      "### Q: How did Einstein’s theory of general relativity revolutionize our understanding of gravity compared to Newton’s laws?\n",
      "A: Newton’s laws of gravity described gravity as a force between two masses, which could predict planetary movements but could not explain how the force is transmitted through empty space. Einstein’s theory of general relativity, however, proposed that gravity is not a force but the warping of space-time itself by massive objects. This theory provided a deeper understanding by suggesting that objects follow curved paths in a warped space-time continuum, which was later confirmed by the observation of light bending around massive objects like the Sun during a solar eclipse.\n",
      "<Einstein’s theory of general relativity revolutionized gravity by describing it as the warping of space-time, rather than a force between two masses.>\n",
      "\n",
      "### Q: What is the significance of the LIGO experiment in confirming the existence of black holes and gravitational waves?\n",
      "A: The LIGO experiment was pivotal in providing direct evidence of gravitational waves, which are ripples in the fabric of space-time caused by massive astronomical events like the collision of black holes. The detection of these waves confirmed a major prediction of Einstein’s general relativity and provided strong evidence for the existence of black holes. The first detected signal in 2015 came from two black holes merging 1.3 billion light-years away, validating theoretical predictions and opening a new observational window into the universe.\n",
      "<The LIGO experiment confirmed the existence of gravitational waves and provided strong evidence for black holes by detecting waves from black hole mergers.>\n",
      "\n",
      "### Q: How does the holographic principle challenge our conventional understanding of the universe and what implications does it have for the nature of space-time?\n",
      "A: The holographic principle suggests that all the information contained in a three-dimensional space can be represented as data on a two-dimensional surface that surrounds it. This idea challenges the conventional understanding by proposing a dual description of reality, where our perceived three-dimensional world might actually be a projection of this two-dimensional data. The principle has profound implications for the nature of space-time, suggesting that the fabric of space itself could be stitched together by quantum entanglement. This concept has the potential to unify general relativity and quantum mechanics, offering new insights into the fundamental structure of the universe.\n",
      "<The holographic principle challenges our understanding by suggesting that our three-dimensional universe is a projection of two-dimensional data, with implications for unifying general relativity and quantum mechanics.>\n",
      "\n",
      "## Comprehensive Report\n",
      "\n",
      "# Analysis Report on the Science of Black Holes\n",
      "\n",
      "## Summary\n",
      "\n",
      "The meeting centered on the science of black holes and the evolution of our understanding of gravity from Newton's classical laws to Einstein's revolutionary theory of general relativity. The key points included:\n",
      "\n",
      "- **Newton's Law of Gravity**: Newton’s laws provided a mathematical framework to understand gravitational forces and predict planetary movements. However, it lacked an explanation for how gravitational force is transmitted through space.\n",
      "- **Einstein’s Theory of General Relativity**: Einstein proposed that gravity is the warping of space-time by massive objects, transforming our understanding of gravitational interactions. This theory was confirmed by observations like the bending of light during a solar eclipse.\n",
      "- **Formation and Skepticism of Black Holes**: Early skepticism, including from Einstein, was discussed, but the theoretical and observational evidence has since confirmed the existence of black holes. This includes the collapse of massive stars and the detection of gravitational waves.\n",
      "- **Observational Evidence**: The LIGO experiment’s detection of gravitational waves from black hole mergers provided direct evidence supporting their existence. The first image of a black hole further solidified these findings.\n",
      "- **Holographic Principle and Quantum Entanglement**: The meeting concluded with advanced theoretical concepts like the holographic principle, suggesting that our universe might be a projection of two-dimensional data, and quantum entanglement, which could stitch together the fabric of space-time.\n",
      "\n",
      "## Interesting Questions and Answers\n",
      "\n",
      "### Q1: How did Einstein’s theory of general relativity revolutionize our understanding of gravity compared to Newton’s laws?\n",
      "**A:** Newton’s laws described gravity as a force between two masses but couldn't explain its transmission through empty space. Einstein’s theory suggested that gravity is the warping of space-time by massive objects, leading to curved paths for objects in this warped space-time. This theory was confirmed by the bending of light around the Sun during an eclipse.\n",
      "<Einstein’s theory of general relativity revolutionized gravity by describing it as the warping of space-time, rather than a force between two masses.>\n",
      "\n",
      "### Q2: What is the significance of the LIGO experiment in confirming the existence of black holes and gravitational waves?\n",
      "**A:** The LIGO experiment provided direct evidence of gravitational waves, confirming a major prediction of Einstein’s theory and providing strong evidence for black holes. The detection of these waves from black hole mergers opened a new observational window into the universe.\n",
      "<The LIGO experiment confirmed the existence of gravitational waves and provided strong evidence for black holes by detecting waves from black hole mergers.>\n",
      "\n",
      "### Q3: How does the holographic principle challenge our conventional understanding of the universe and what implications does it have for the nature of space-time?\n",
      "**A:** The holographic principle suggests that all information in a three-dimensional space can be represented as data on a two-dimensional surface, proposing a dual description of reality. This challenges conventional understanding and implies that space-time could be stitched together by quantum entanglement, potentially unifying general relativity and quantum mechanics.\n",
      "<The holographic principle challenges our understanding by suggesting that our three-dimensional universe is a projection of two-dimensional data, with implications for unifying general relativity and quantum mechanics.>\n",
      "\n",
      "## Conclusion\n",
      "\n",
      "The meeting provided a comprehensive overview of the evolution of our understanding of black holes, from Newtonian gravity to Einstein’s general relativity, and the modern observational evidence supporting these theories. The discussion of advanced concepts like the holographic principle and quantum entanglement highlighted the ongoing journey to unify our understanding of the fundamental nature of the universe. The insights gained underscore the remarkable progress in physics and the potential for future discoveries that could reshape our comprehension of reality itself.\n"
     ]
    }
   ],
   "source": [
    "from langchain.chains.summarize import load_summarize_chain\n",
    "from langchain.docstore.document import Document\n",
    "from langchain.chains.llm import LLMChain\n",
    "from langchain.chains.combine_documents.stuff import StuffDocumentsChain\n",
    "\n",
    "docs = [Document(page_content=transcribe_text, metadata={'source': 'local'})]\n",
    "\n",
    "llm_chain = LLMChain(llm=llm, prompt=summary_prompt)\n",
    "\n",
    "# Define StuffDocumentsChain\n",
    "stuff_chain = StuffDocumentsChain(llm_chain=llm_chain, document_variable_name=\"text\")\n",
    "\n",
    "print(stuff_chain.invoke(docs)['output_text'])"
   ]
  },
  {
   "cell_type": "code",
   "execution_count": null,
   "id": "7172c9e4",
   "metadata": {},
   "outputs": [],
   "source": []
  }
 ],
 "metadata": {
  "kernelspec": {
   "display_name": "Python 3",
   "language": "python",
   "name": "python3"
  },
  "language_info": {
   "codemirror_mode": {
    "name": "ipython",
    "version": 3
   },
   "file_extension": ".py",
   "mimetype": "text/x-python",
   "name": "python",
   "nbconvert_exporter": "python",
   "pygments_lexer": "ipython3",
   "version": "3.10.9"
  }
 },
 "nbformat": 4,
 "nbformat_minor": 5
}
